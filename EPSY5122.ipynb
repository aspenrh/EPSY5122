{
 "cells": [
  {
   "cell_type": "markdown",
   "id": "fd98fb5c",
   "metadata": {},
   "source": [
    "# My final project for EPSY 5122!!\n",
    "## Aspen Holm\n",
    "## Fall 2022\n",
    "\n",
    "#### the goal is to take all the relevant data from the raw file (ant1_session1.csv) and upload them to a new dataframe with columns giving info on left probability, right probability, choice chosen (left = 1, right = 2), rewarded (no = 0, yes = 1), and timestamp"
   ]
  },
  {
   "cell_type": "code",
   "execution_count": 1,
   "id": "5833d928",
   "metadata": {},
   "outputs": [],
   "source": [
    "# libraries! yay!\n",
    "\n",
    "import numpy as np\n",
    "import pandas as pd"
   ]
  },
  {
   "cell_type": "code",
   "execution_count": 2,
   "id": "d6614a61",
   "metadata": {},
   "outputs": [
    {
     "name": "stdout",
     "output_type": "stream",
     "text": [
      "Index(['Evnt_Time', 'Evnt_ID', 'Evnt_Name', 'Item_Name', 'Alias_Name',\n",
      "       'Group_ID', 'Num_Args', 'Arg1_Name', 'Arg1_Value', 'Arg2_Name',\n",
      "       'Arg2_Value', 'Arg3_Name', 'Arg3_Value', 'Arg4_Name', 'Arg4_Value',\n",
      "       'Arg5_Name', 'Arg5_Value'],\n",
      "      dtype='object')\n"
     ]
    }
   ],
   "source": [
    "# start by grabbing the raw csv file! woot!\n",
    "# but not the first few rows of garbage from ABET, gross\n",
    "\n",
    "raw_csv = \"/Users/aspenholm/EPSY5122/FinalProject/ant1_session1.csv\"\n",
    "ant1_raw = pd.read_csv(raw_csv, skiprows = 17)\n",
    "print(ant1_raw.keys())"
   ]
  },
  {
   "cell_type": "code",
   "execution_count": 3,
   "id": "4a20ff4b",
   "metadata": {},
   "outputs": [],
   "source": [
    "# now, let's make some empty lists for each of our columns that we'll need in the new df!\n",
    "# we will fill these lists with info in a second...\n",
    "# let's also define some variables for specific columns from the OG df to make it easier\n",
    "\n",
    "timestamp = []\n",
    "right_prob = []\n",
    "left_prob = []\n",
    "choice = []\n",
    "rewarded = []\n",
    "x_coord = []\n",
    "y_coord = []\n",
    "Item_Name = ant1_raw.loc[:, \"Item_Name\"]\n",
    "Evnt_Name = ant1_raw.loc[:, \"Evnt_Name\"]\n",
    "Evnt_Time = ant1_raw.loc[:, \"Evnt_Time\"]\n",
    "Arg1_Value = ant1_raw.loc[:, \"Arg1_Value\"]\n",
    "Arg3_Value = ant1_raw.loc[:, \"Arg3_Value\"]\n",
    "Arg4_Value = ant1_raw.loc[:, \"Arg4_Value\"]"
   ]
  },
  {
   "cell_type": "code",
   "execution_count": 4,
   "id": "eab99ac7",
   "metadata": {},
   "outputs": [],
   "source": [
    "# now let's make a big ole for loop containing allll the info we want for the new df\n",
    "# I'm grabbing info from the columns in ant1_raw and then appending them to the empty lists\n",
    "\n",
    "for i in range(len(Item_Name)):\n",
    "    if Item_Name[i] == \"Reward_value_R\":\n",
    "        timestamp.append(Evnt_Time[i])\n",
    "    if Item_Name[i] == \"Reward_value_R\":\n",
    "        right_prob.append(Arg1_Value[i])\n",
    "    if Item_Name[i] == \"Reward_value_L\":\n",
    "        left_prob.append(Arg1_Value[i])\n",
    "    if Item_Name[i] == \"R side touched_ no reward\" or Item_Name[i] == \"R side touched_ reward\":\n",
    "        choice.append(2)\n",
    "    if Item_Name[i] == \"L side touched_ no reward\" or Item_Name[i] == \"L side touched_ reward\":\n",
    "        choice.append(1)\n",
    "    if Item_Name[i] == \"R side touched_ no reward\" or Item_Name[i] == \"L side touched_ no reward\":\n",
    "        rewarded.append(0)\n",
    "    if Item_Name[i] == \"L side touched_ reward\" or Item_Name[i] == \"R side touched_ reward\":\n",
    "        rewarded.append(1)\n",
    "    if Evnt_Name[i] == \"Touch Down Event\":\n",
    "        x_coord.append(Arg3_Value[i])\n",
    "        y_coord.append(Arg4_Value[i])"
   ]
  },
  {
   "cell_type": "code",
   "execution_count": 5,
   "id": "5b9ac3d7",
   "metadata": {},
   "outputs": [],
   "source": [
    "# because ABET is weird, the lists aren't quite the same length\n",
    "# the first and last values for left and right prob, and consequently timestamp, are not important\n",
    "# soooo let's get rid of them!\n",
    "\n",
    "del left_prob[0]\n",
    "del left_prob[-1]\n",
    "del right_prob[0]\n",
    "del right_prob[-1]\n",
    "del timestamp[0]\n",
    "del timestamp[-1]"
   ]
  },
  {
   "cell_type": "code",
   "execution_count": 6,
   "id": "3ca18dd0",
   "metadata": {},
   "outputs": [
    {
     "name": "stdout",
     "output_type": "stream",
     "text": [
      "300\n",
      "300\n",
      "300\n",
      "300\n",
      "300\n",
      "366\n",
      "366\n"
     ]
    }
   ],
   "source": [
    "# now let's check that the lengths for our future columns are all the same for when we create our df\n",
    "\n",
    "print(len(choice))\n",
    "print(len(left_prob))\n",
    "print(len(timestamp))\n",
    "print(len(right_prob))\n",
    "print(len(rewarded))\n",
    "print(len(x_coord))\n",
    "print(len(y_coord))"
   ]
  },
  {
   "cell_type": "code",
   "execution_count": 7,
   "id": "3f2da5c2",
   "metadata": {},
   "outputs": [],
   "source": [
    "# let's name and create our new df\n",
    "# we'll leave it empty for now and then create our columns in a sec\n",
    "\n",
    "ant1_new = pd.DataFrame()"
   ]
  },
  {
   "cell_type": "code",
   "execution_count": 8,
   "id": "f1253b9b",
   "metadata": {},
   "outputs": [],
   "source": [
    "# now let's define our columns and grab the values from our lists\n",
    "\n",
    "ant1_new[\"timestamp\"] = timestamp\n",
    "ant1_new[\"right_probability\"] = right_prob\n",
    "ant1_new[\"left_probability\"] = left_prob\n",
    "ant1_new[\"choice\"] = choice\n",
    "ant1_new[\"rewarded\"] = rewarded"
   ]
  },
  {
   "cell_type": "code",
   "execution_count": 9,
   "id": "6bddd8f8",
   "metadata": {},
   "outputs": [
    {
     "data": {
      "text/html": [
       "<div>\n",
       "<style scoped>\n",
       "    .dataframe tbody tr th:only-of-type {\n",
       "        vertical-align: middle;\n",
       "    }\n",
       "\n",
       "    .dataframe tbody tr th {\n",
       "        vertical-align: top;\n",
       "    }\n",
       "\n",
       "    .dataframe thead th {\n",
       "        text-align: right;\n",
       "    }\n",
       "</style>\n",
       "<table border=\"1\" class=\"dataframe\">\n",
       "  <thead>\n",
       "    <tr style=\"text-align: right;\">\n",
       "      <th></th>\n",
       "      <th>timestamp</th>\n",
       "      <th>right_probability</th>\n",
       "      <th>left_probability</th>\n",
       "      <th>choice</th>\n",
       "      <th>rewarded</th>\n",
       "    </tr>\n",
       "  </thead>\n",
       "  <tbody>\n",
       "    <tr>\n",
       "      <th>0</th>\n",
       "      <td>2.387</td>\n",
       "      <td>60.0</td>\n",
       "      <td>50.0</td>\n",
       "      <td>1</td>\n",
       "      <td>0</td>\n",
       "    </tr>\n",
       "    <tr>\n",
       "      <th>1</th>\n",
       "      <td>9.579</td>\n",
       "      <td>60.0</td>\n",
       "      <td>50.0</td>\n",
       "      <td>2</td>\n",
       "      <td>1</td>\n",
       "    </tr>\n",
       "    <tr>\n",
       "      <th>2</th>\n",
       "      <td>15.084</td>\n",
       "      <td>60.0</td>\n",
       "      <td>50.0</td>\n",
       "      <td>1</td>\n",
       "      <td>0</td>\n",
       "    </tr>\n",
       "    <tr>\n",
       "      <th>3</th>\n",
       "      <td>23.712</td>\n",
       "      <td>60.0</td>\n",
       "      <td>50.0</td>\n",
       "      <td>2</td>\n",
       "      <td>0</td>\n",
       "    </tr>\n",
       "    <tr>\n",
       "      <th>4</th>\n",
       "      <td>29.697</td>\n",
       "      <td>60.0</td>\n",
       "      <td>50.0</td>\n",
       "      <td>1</td>\n",
       "      <td>1</td>\n",
       "    </tr>\n",
       "    <tr>\n",
       "      <th>...</th>\n",
       "      <td>...</td>\n",
       "      <td>...</td>\n",
       "      <td>...</td>\n",
       "      <td>...</td>\n",
       "      <td>...</td>\n",
       "    </tr>\n",
       "    <tr>\n",
       "      <th>295</th>\n",
       "      <td>2372.671</td>\n",
       "      <td>40.0</td>\n",
       "      <td>50.0</td>\n",
       "      <td>2</td>\n",
       "      <td>1</td>\n",
       "    </tr>\n",
       "    <tr>\n",
       "      <th>296</th>\n",
       "      <td>2377.373</td>\n",
       "      <td>40.0</td>\n",
       "      <td>50.0</td>\n",
       "      <td>2</td>\n",
       "      <td>1</td>\n",
       "    </tr>\n",
       "    <tr>\n",
       "      <th>297</th>\n",
       "      <td>2384.207</td>\n",
       "      <td>40.0</td>\n",
       "      <td>50.0</td>\n",
       "      <td>2</td>\n",
       "      <td>1</td>\n",
       "    </tr>\n",
       "    <tr>\n",
       "      <th>298</th>\n",
       "      <td>2389.245</td>\n",
       "      <td>40.0</td>\n",
       "      <td>50.0</td>\n",
       "      <td>2</td>\n",
       "      <td>1</td>\n",
       "    </tr>\n",
       "    <tr>\n",
       "      <th>299</th>\n",
       "      <td>2394.565</td>\n",
       "      <td>40.0</td>\n",
       "      <td>50.0</td>\n",
       "      <td>2</td>\n",
       "      <td>1</td>\n",
       "    </tr>\n",
       "  </tbody>\n",
       "</table>\n",
       "<p>300 rows × 5 columns</p>\n",
       "</div>"
      ],
      "text/plain": [
       "     timestamp  right_probability  left_probability  choice  rewarded\n",
       "0        2.387               60.0              50.0       1         0\n",
       "1        9.579               60.0              50.0       2         1\n",
       "2       15.084               60.0              50.0       1         0\n",
       "3       23.712               60.0              50.0       2         0\n",
       "4       29.697               60.0              50.0       1         1\n",
       "..         ...                ...               ...     ...       ...\n",
       "295   2372.671               40.0              50.0       2         1\n",
       "296   2377.373               40.0              50.0       2         1\n",
       "297   2384.207               40.0              50.0       2         1\n",
       "298   2389.245               40.0              50.0       2         1\n",
       "299   2394.565               40.0              50.0       2         1\n",
       "\n",
       "[300 rows x 5 columns]"
      ]
     },
     "execution_count": 9,
     "metadata": {},
     "output_type": "execute_result"
    }
   ],
   "source": [
    "# check that the new df looks normal...\n",
    "# success is mine!!!\n",
    "\n",
    "ant1_new"
   ]
  },
  {
   "cell_type": "code",
   "execution_count": 10,
   "id": "209a9317",
   "metadata": {},
   "outputs": [],
   "source": [
    "# now we just send our df over to a csv\n",
    "# so exciting!\n",
    "\n",
    "ant1_new.to_csv(\"ant1_new.csv\")"
   ]
  },
  {
   "cell_type": "markdown",
   "id": "dc830016",
   "metadata": {},
   "source": [
    "## some issues I ran into...\n",
    "\n",
    "### I wasn't really sure how to start this project. I knew at some point I would need to somehow get the data from the raw file into the new file, but I wasn't sure how to do that at first. after quite a bit of trial and error (and some very helpful resources such as stack overflow, geeks for geeks, and others), I figured out a rough outline of what I wanted to do! I found that making an outline for my code, the same way that you would make an outline for an essay, really helped me organize my thoughts\n",
    "### weirdly, I ran into a lot of trouble getting my timestamp column to work. honestly, it was just a tonnnn of trial and error before I finally did something and realized oh! it worked! cool! I think what I was doing wrong at first was I was basically trying to just directly copy the timestamp column from the raw file, not realizing that this list would be wayyyy longer than the others because every single event had a timestamp\n",
    "### the next big problem I ran into was I had a really hard time figuring out how to grab the data from the columns in the raw file. I kept getting weird key errors that didn't make any sense to me :( so finally, I decided to try making variables for the columns, and that worked! python is weird.\n",
    "### when I finally filled in my lists with all the data I needed, I noticed not all the lists were the same length, which was super confusing and frustrating to me. so I went into the raw csv and looked closely and it turned out that the first and last value of the left and right prob columns weren't supposed to be there, so I just deleted them, easy peasy\n",
    "### next, I'd like to try to adapt this to read in any csv file and grab the data in the same way and send them to a new csv file. also, I want to try grabbing the x and y coordinate data, since this relates to the project I'm working on. although it seems reallllly complitcated, so we'll see if I figure it out\n",
    "### all in all this went a lot better than I was expecting and I learned a lot that will definitely be useful in my own personal research going forward!"
   ]
  }
 ],
 "metadata": {
  "kernelspec": {
   "display_name": "Python 3 (ipykernel)",
   "language": "python",
   "name": "python3"
  },
  "language_info": {
   "codemirror_mode": {
    "name": "ipython",
    "version": 3
   },
   "file_extension": ".py",
   "mimetype": "text/x-python",
   "name": "python",
   "nbconvert_exporter": "python",
   "pygments_lexer": "ipython3",
   "version": "3.9.13"
  }
 },
 "nbformat": 4,
 "nbformat_minor": 5
}
